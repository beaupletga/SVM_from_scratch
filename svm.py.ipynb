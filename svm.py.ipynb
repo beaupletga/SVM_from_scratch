{
 "cells": [
  {
   "cell_type": "code",
   "execution_count": 3,
   "metadata": {
    "collapsed": true
   },
   "outputs": [],
   "source": [
    "import numpy as np\n",
    "from copy import deepcopy\n",
    "import matplotlib.pyplot as plt\n",
    "from IPython.core.display import display, HTML"
   ]
  },
  {
   "cell_type": "code",
   "execution_count": 4,
   "metadata": {},
   "outputs": [
    {
     "data": {
      "text/html": [
       "<img src=\"finding_w.png\">\n",
       "<img src=\"system.png\">\n",
       "<img src=\"distance.png\">\n",
       "<img src=\"lagrangien.png\">\n",
       "\n",
       "\n",
       "<p> The problem is quadratic so the space is convex. Thus, any local minimum is global (unllike neural net for instance)</p>"
      ],
      "text/plain": [
       "<IPython.core.display.HTML object>"
      ]
     },
     "metadata": {},
     "output_type": "display_data"
    }
   ],
   "source": [
    "%%HTML\n",
    "<img src=\"finding_w.png\">\n",
    "<img src=\"system.png\">\n",
    "<img src=\"distance.png\">\n",
    "<img src=\"lagrangien.png\">\n",
    "\n",
    "\n",
    "<p> The problem is quadratic so the space is convex. Thus, any local minimum is global (unllike neural net for instance)</p>"
   ]
  },
  {
   "cell_type": "code",
   "execution_count": 5,
   "metadata": {
    "collapsed": true
   },
   "outputs": [],
   "source": [
    "\n",
    "#x : point\n",
    "#w  : coef\n",
    "#b : last coef (without x)\n",
    "#return the distance between a hyperplane and a point\n",
    "def distance_from_hyperplane(x,w,b):\n",
    "    num=w.T.dot(x)+b\n",
    "    den=norm(w)\n",
    "    return abs(num)/den\n",
    "\n",
    "#return the closest point with a one_or_minus_one label from the hyperplan (wx+b)\n",
    "def closest_points(tab,w,b,one_or_minus_one=1):\n",
    "    mini=1e20\n",
    "    index=0\n",
    "    for i,j in enumerate(tab):\n",
    "        if mini>distance_from_hyperplane(j[:-1],w,b) and j[-1]==one_or_minus_one:\n",
    "            index=i\n",
    "            mini=distance_from_hyperplane(j[:-1],w,b)\n",
    "    return index\n",
    "            "
   ]
  },
  {
   "cell_type": "code",
   "execution_count": 16,
   "metadata": {
    "collapsed": true
   },
   "outputs": [],
   "source": [
    "#compute euclidian norm\n",
    "def norm(w):\n",
    "    return np.sum(w**2)**0.5\n",
    "\n",
    "#generate a set of points of two label (-1,1)\n",
    "#the label is is the last column\n",
    "def create_data():\n",
    "    nb=100\n",
    "    \n",
    "    a=np.random.randint(0,20,(nb,2))\n",
    "    b=np.random.randint(20,40,(nb,2))\n",
    "    \n",
    "    tab=np.concatenate((a,b))\n",
    "    \n",
    "    a=np.array([-1]*nb+[1]*nb).reshape((-1,1))\n",
    "    tab=np.concatenate((tab,a),axis=-1)\n",
    "    \n",
    "    return tab\n",
    "\n",
    "#compute the objective function\n",
    "def objective_function(w,b,lamb,tab):\n",
    "    obj_list=[]\n",
    "    for i,j in enumerate(tab):\n",
    "        obj_list.append(lamb*(j[-1]*(w.T.dot(j[:-1])-1)))\n",
    "        \n",
    "    return 0.5*norm(w)**2-np.mean(obj_list)\n",
    "\n",
    "\n",
    "#plot the separation of the hyperplane\n",
    "def plot(w,b,tab):\n",
    "    colors=[]    \n",
    "    for i in range(0,tab.shape[0]):\n",
    "        if tab[i,-1]==-1:\n",
    "            colors.append('red')\n",
    "        else:\n",
    "            colors.append('black')\n",
    "\n",
    "    g = plt.figure(2)\n",
    "    ax = g.add_subplot(111)\n",
    "    for i in range(0,tab.shape[0]):\n",
    "        plt.plot(tab[i,0],tab[i,1],'*',color=colors[i])\n",
    "    q=np.arange(0,40,1)\n",
    "    ax.plot(q,-(w[0]*q+b)/w[1])\n",
    "    ax.set_xlabel('X1')\n",
    "    ax.set_ylabel('X2')\n",
    "    ax.set_title('Hyperplane separating two classes')\n",
    "    g.show()"
   ]
  },
  {
   "cell_type": "code",
   "execution_count": 20,
   "metadata": {},
   "outputs": [
    {
     "data": {
      "image/png": "[encoded data removed]",
      "text/plain": [
       "<matplotlib.figure.Figure at 0x7fa9848a88d0>"
      ]
     },
     "metadata": {},
     "output_type": "display_data"
    },
    {
     "data": {
      "image/png": "[encoded data removed]",
      "text/plain": [
       "<matplotlib.figure.Figure at 0x7fa9844b4050>"
      ]
     },
     "metadata": {},
     "output_type": "display_data"
    }
   ],
   "source": [
    "\n",
    "#main function\n",
    "def svm():\n",
    "    error_list=[]\n",
    "    b=np.random.rand()\n",
    "    #learning rate\n",
    "    lr=1e-3\n",
    "    lamb=1e-2\n",
    "    tab=create_data()\n",
    "    w=np.random.random((tab.shape[1]-1,1))\n",
    "    \n",
    "    \n",
    "    for i in range(0,100): \n",
    "        #get the closest points from the hyperplane with a label of 1 and -1\n",
    "        sup_one=tab[closest_points(tab,w,b,1),:]\n",
    "        sup_minus_one=tab[closest_points(tab,w,b,-1),:] \n",
    "\n",
    "        error_list.append(objective_function(w,b,lamb,tab))\n",
    "        for j in range(tab.shape[0]):\n",
    "            w-=(lr*w)   \n",
    "            if w.T.dot(tab[j,:-1])*tab[j,-1]+b<1:\n",
    "                w-=-lr*lamb*(tab[j,:-1]*tab[j,-1]).reshape((1,-1)).T\n",
    "    #             b-=-lr*lamb*tab[j,-1] cane make it work (compute the derivative on b)\n",
    "\n",
    "        #we can use the equation where we of the support vectors to determine b\n",
    "        b=-(w.T.dot(sup_one[:-1])+w.T.dot(sup_minus_one[:-1]))*0.5  \n",
    "    \n",
    "    \n",
    "    plt.clf()\n",
    "    f = plt.figure(1)\n",
    "    plt.plot(error_list)\n",
    "    plt.xlabel('Iterations')\n",
    "    plt.ylabel('Error')\n",
    "    f.show()\n",
    "    \n",
    "    plot(w,b,tab)\n",
    "    \n",
    "    plt.show()\n",
    "\n",
    "\n",
    "svm()"
   ]
  }
 ],
 "metadata": {
  "kernelspec": {
   "display_name": "Python 2",
   "language": "python",
   "name": "python2"
  },
  "language_info": {
   "codemirror_mode": {
    "name": "ipython",
    "version": 2
   },
   "file_extension": ".py",
   "mimetype": "text/x-python",
   "name": "python",
   "nbconvert_exporter": "python",
   "pygments_lexer": "ipython2",
   "version": "2.7.12"
  }
 },
 "nbformat": 4,
 "nbformat_minor": 2
}
